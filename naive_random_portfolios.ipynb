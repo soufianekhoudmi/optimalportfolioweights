{
 "cells": [
  {
   "cell_type": "code",
   "execution_count": 1,
   "metadata": {},
   "outputs": [],
   "source": [
    "import pandas as pd\n",
    "import numpy as np\n",
    "\n",
    "import matplotlib as plt\n",
    "import seaborn as sns"
   ]
  },
  {
   "cell_type": "markdown",
   "metadata": {},
   "source": [
    "# Load and frame data"
   ]
  },
  {
   "cell_type": "markdown",
   "metadata": {},
   "source": [
    "Download and unzip data from https://www.kaggle.com/camnugent/sandp500"
   ]
  },
  {
   "cell_type": "code",
   "execution_count": 2,
   "metadata": {},
   "outputs": [],
   "source": [
    "stocks_files = 'sandp500/all_stocks_5yr.csv'"
   ]
  },
  {
   "cell_type": "code",
   "execution_count": 3,
   "metadata": {},
   "outputs": [],
   "source": [
    "stocks_df = pd.read_csv(stocks_files)"
   ]
  },
  {
   "cell_type": "code",
   "execution_count": 4,
   "metadata": {},
   "outputs": [],
   "source": [
    "stocks_df = stocks_df[['date', 'close', 'Name']]"
   ]
  },
  {
   "cell_type": "code",
   "execution_count": 5,
   "metadata": {},
   "outputs": [],
   "source": [
    "stocks_df['date'] = pd.to_datetime(stocks_df['date'])"
   ]
  },
  {
   "cell_type": "code",
   "execution_count": 6,
   "metadata": {},
   "outputs": [
    {
     "data": {
      "text/html": [
       "<div>\n",
       "<style scoped>\n",
       "    .dataframe tbody tr th:only-of-type {\n",
       "        vertical-align: middle;\n",
       "    }\n",
       "\n",
       "    .dataframe tbody tr th {\n",
       "        vertical-align: top;\n",
       "    }\n",
       "\n",
       "    .dataframe thead th {\n",
       "        text-align: right;\n",
       "    }\n",
       "</style>\n",
       "<table border=\"1\" class=\"dataframe\">\n",
       "  <thead>\n",
       "    <tr style=\"text-align: right;\">\n",
       "      <th></th>\n",
       "      <th>date</th>\n",
       "      <th>close</th>\n",
       "      <th>Name</th>\n",
       "    </tr>\n",
       "  </thead>\n",
       "  <tbody>\n",
       "    <tr>\n",
       "      <td>0</td>\n",
       "      <td>2013-02-08</td>\n",
       "      <td>14.75</td>\n",
       "      <td>AAL</td>\n",
       "    </tr>\n",
       "    <tr>\n",
       "      <td>1</td>\n",
       "      <td>2013-02-11</td>\n",
       "      <td>14.46</td>\n",
       "      <td>AAL</td>\n",
       "    </tr>\n",
       "    <tr>\n",
       "      <td>2</td>\n",
       "      <td>2013-02-12</td>\n",
       "      <td>14.27</td>\n",
       "      <td>AAL</td>\n",
       "    </tr>\n",
       "    <tr>\n",
       "      <td>3</td>\n",
       "      <td>2013-02-13</td>\n",
       "      <td>14.66</td>\n",
       "      <td>AAL</td>\n",
       "    </tr>\n",
       "    <tr>\n",
       "      <td>4</td>\n",
       "      <td>2013-02-14</td>\n",
       "      <td>13.99</td>\n",
       "      <td>AAL</td>\n",
       "    </tr>\n",
       "    <tr>\n",
       "      <td>...</td>\n",
       "      <td>...</td>\n",
       "      <td>...</td>\n",
       "      <td>...</td>\n",
       "    </tr>\n",
       "    <tr>\n",
       "      <td>619035</td>\n",
       "      <td>2018-02-01</td>\n",
       "      <td>77.82</td>\n",
       "      <td>ZTS</td>\n",
       "    </tr>\n",
       "    <tr>\n",
       "      <td>619036</td>\n",
       "      <td>2018-02-02</td>\n",
       "      <td>76.78</td>\n",
       "      <td>ZTS</td>\n",
       "    </tr>\n",
       "    <tr>\n",
       "      <td>619037</td>\n",
       "      <td>2018-02-05</td>\n",
       "      <td>73.83</td>\n",
       "      <td>ZTS</td>\n",
       "    </tr>\n",
       "    <tr>\n",
       "      <td>619038</td>\n",
       "      <td>2018-02-06</td>\n",
       "      <td>73.27</td>\n",
       "      <td>ZTS</td>\n",
       "    </tr>\n",
       "    <tr>\n",
       "      <td>619039</td>\n",
       "      <td>2018-02-07</td>\n",
       "      <td>73.86</td>\n",
       "      <td>ZTS</td>\n",
       "    </tr>\n",
       "  </tbody>\n",
       "</table>\n",
       "<p>619040 rows × 3 columns</p>\n",
       "</div>"
      ],
      "text/plain": [
       "             date  close Name\n",
       "0      2013-02-08  14.75  AAL\n",
       "1      2013-02-11  14.46  AAL\n",
       "2      2013-02-12  14.27  AAL\n",
       "3      2013-02-13  14.66  AAL\n",
       "4      2013-02-14  13.99  AAL\n",
       "...           ...    ...  ...\n",
       "619035 2018-02-01  77.82  ZTS\n",
       "619036 2018-02-02  76.78  ZTS\n",
       "619037 2018-02-05  73.83  ZTS\n",
       "619038 2018-02-06  73.27  ZTS\n",
       "619039 2018-02-07  73.86  ZTS\n",
       "\n",
       "[619040 rows x 3 columns]"
      ]
     },
     "execution_count": 6,
     "metadata": {},
     "output_type": "execute_result"
    }
   ],
   "source": [
    "stocks_df"
   ]
  },
  {
   "cell_type": "markdown",
   "metadata": {},
   "source": [
    "Data is in long format, i.e. one stock after antoher. Let's make it wide, i.e. each stock as a different columns."
   ]
  },
  {
   "cell_type": "code",
   "execution_count": 7,
   "metadata": {},
   "outputs": [],
   "source": [
    "stocks_df = stocks_df.pivot(index='date', columns='Name', values='close')"
   ]
  },
  {
   "cell_type": "markdown",
   "metadata": {},
   "source": [
    "Compute returns for each stock. One can use pd.pct_change but log then diff approximation is more approriate in the financial context since it is continuisly compuned.\n",
    "https://en.wikipedia.org/wiki/Rate_of_return#Logarithmic_or_continuously_compounded_return"
   ]
  },
  {
   "cell_type": "code",
   "execution_count": 8,
   "metadata": {},
   "outputs": [],
   "source": [
    "returns_df = np.log(stocks_df).diff()"
   ]
  },
  {
   "cell_type": "markdown",
   "metadata": {},
   "source": [
    "Remove first np.nan observation after pd.diff"
   ]
  },
  {
   "cell_type": "code",
   "execution_count": 9,
   "metadata": {},
   "outputs": [],
   "source": [
    "returns_df = returns_df[1:]"
   ]
  },
  {
   "cell_type": "code",
   "execution_count": 10,
   "metadata": {},
   "outputs": [
    {
     "data": {
      "text/plain": [
       "(1258, 505)"
      ]
     },
     "execution_count": 10,
     "metadata": {},
     "output_type": "execute_result"
    }
   ],
   "source": [
    "returns_df.shape"
   ]
  },
  {
   "cell_type": "code",
   "execution_count": 11,
   "metadata": {},
   "outputs": [
    {
     "data": {
      "text/html": [
       "<div>\n",
       "<style scoped>\n",
       "    .dataframe tbody tr th:only-of-type {\n",
       "        vertical-align: middle;\n",
       "    }\n",
       "\n",
       "    .dataframe tbody tr th {\n",
       "        vertical-align: top;\n",
       "    }\n",
       "\n",
       "    .dataframe thead th {\n",
       "        text-align: right;\n",
       "    }\n",
       "</style>\n",
       "<table border=\"1\" class=\"dataframe\">\n",
       "  <thead>\n",
       "    <tr style=\"text-align: right;\">\n",
       "      <th>Name</th>\n",
       "      <th>A</th>\n",
       "      <th>AAL</th>\n",
       "      <th>AAP</th>\n",
       "      <th>AAPL</th>\n",
       "      <th>ABBV</th>\n",
       "      <th>ABC</th>\n",
       "      <th>ABT</th>\n",
       "      <th>ACN</th>\n",
       "      <th>ADBE</th>\n",
       "      <th>ADI</th>\n",
       "      <th>...</th>\n",
       "      <th>XL</th>\n",
       "      <th>XLNX</th>\n",
       "      <th>XOM</th>\n",
       "      <th>XRAY</th>\n",
       "      <th>XRX</th>\n",
       "      <th>XYL</th>\n",
       "      <th>YUM</th>\n",
       "      <th>ZBH</th>\n",
       "      <th>ZION</th>\n",
       "      <th>ZTS</th>\n",
       "    </tr>\n",
       "    <tr>\n",
       "      <th>date</th>\n",
       "      <th></th>\n",
       "      <th></th>\n",
       "      <th></th>\n",
       "      <th></th>\n",
       "      <th></th>\n",
       "      <th></th>\n",
       "      <th></th>\n",
       "      <th></th>\n",
       "      <th></th>\n",
       "      <th></th>\n",
       "      <th></th>\n",
       "      <th></th>\n",
       "      <th></th>\n",
       "      <th></th>\n",
       "      <th></th>\n",
       "      <th></th>\n",
       "      <th></th>\n",
       "      <th></th>\n",
       "      <th></th>\n",
       "      <th></th>\n",
       "      <th></th>\n",
       "    </tr>\n",
       "  </thead>\n",
       "  <tbody>\n",
       "    <tr>\n",
       "      <td>2013-02-11</td>\n",
       "      <td>-0.010705</td>\n",
       "      <td>-0.019857</td>\n",
       "      <td>-0.006485</td>\n",
       "      <td>0.010368</td>\n",
       "      <td>-0.011096</td>\n",
       "      <td>-0.002776</td>\n",
       "      <td>-0.004369</td>\n",
       "      <td>-0.003279</td>\n",
       "      <td>-0.012346</td>\n",
       "      <td>0.008281</td>\n",
       "      <td>...</td>\n",
       "      <td>0.002476</td>\n",
       "      <td>-0.001334</td>\n",
       "      <td>-0.003731</td>\n",
       "      <td>-0.000700</td>\n",
       "      <td>0.003762</td>\n",
       "      <td>0.013566</td>\n",
       "      <td>-0.011552</td>\n",
       "      <td>-0.002640</td>\n",
       "      <td>0.002896</td>\n",
       "      <td>0.006334</td>\n",
       "    </tr>\n",
       "    <tr>\n",
       "      <td>2013-02-12</td>\n",
       "      <td>0.000448</td>\n",
       "      <td>-0.013227</td>\n",
       "      <td>0.002675</td>\n",
       "      <td>-0.025386</td>\n",
       "      <td>-0.012067</td>\n",
       "      <td>0.004268</td>\n",
       "      <td>0.001167</td>\n",
       "      <td>0.004097</td>\n",
       "      <td>0.006449</td>\n",
       "      <td>0.004115</td>\n",
       "      <td>...</td>\n",
       "      <td>0.003526</td>\n",
       "      <td>0.003198</td>\n",
       "      <td>0.002037</td>\n",
       "      <td>0.000700</td>\n",
       "      <td>-0.003762</td>\n",
       "      <td>0.017687</td>\n",
       "      <td>0.003094</td>\n",
       "      <td>-0.002780</td>\n",
       "      <td>0.011499</td>\n",
       "      <td>0.014329</td>\n",
       "    </tr>\n",
       "    <tr>\n",
       "      <td>2013-02-13</td>\n",
       "      <td>0.002909</td>\n",
       "      <td>0.026963</td>\n",
       "      <td>0.004696</td>\n",
       "      <td>-0.001905</td>\n",
       "      <td>-0.004244</td>\n",
       "      <td>-0.006838</td>\n",
       "      <td>0.004654</td>\n",
       "      <td>0.002586</td>\n",
       "      <td>-0.002059</td>\n",
       "      <td>-0.000216</td>\n",
       "      <td>...</td>\n",
       "      <td>0.000352</td>\n",
       "      <td>0.005837</td>\n",
       "      <td>0.002371</td>\n",
       "      <td>0.004887</td>\n",
       "      <td>0.005013</td>\n",
       "      <td>0.011030</td>\n",
       "      <td>-0.005265</td>\n",
       "      <td>0.007396</td>\n",
       "      <td>0.010156</td>\n",
       "      <td>-0.005647</td>\n",
       "    </tr>\n",
       "    <tr>\n",
       "      <td>2013-02-14</td>\n",
       "      <td>-0.003806</td>\n",
       "      <td>-0.046780</td>\n",
       "      <td>-0.001648</td>\n",
       "      <td>-0.000900</td>\n",
       "      <td>0.036195</td>\n",
       "      <td>0.002783</td>\n",
       "      <td>0.006940</td>\n",
       "      <td>-0.005863</td>\n",
       "      <td>-0.005167</td>\n",
       "      <td>0.006035</td>\n",
       "      <td>...</td>\n",
       "      <td>-0.007062</td>\n",
       "      <td>0.016789</td>\n",
       "      <td>-0.001693</td>\n",
       "      <td>-0.003954</td>\n",
       "      <td>0.003743</td>\n",
       "      <td>0.007404</td>\n",
       "      <td>-0.008106</td>\n",
       "      <td>0.004464</td>\n",
       "      <td>-0.004456</td>\n",
       "      <td>-0.008381</td>\n",
       "    </tr>\n",
       "    <tr>\n",
       "      <td>2013-02-15</td>\n",
       "      <td>-0.053681</td>\n",
       "      <td>0.035806</td>\n",
       "      <td>0.002027</td>\n",
       "      <td>-0.013876</td>\n",
       "      <td>0.027244</td>\n",
       "      <td>-0.003641</td>\n",
       "      <td>0.010891</td>\n",
       "      <td>0.013986</td>\n",
       "      <td>0.000647</td>\n",
       "      <td>-0.007874</td>\n",
       "      <td>...</td>\n",
       "      <td>0.015820</td>\n",
       "      <td>-0.008360</td>\n",
       "      <td>-0.001809</td>\n",
       "      <td>-0.002567</td>\n",
       "      <td>-0.007500</td>\n",
       "      <td>-0.006696</td>\n",
       "      <td>0.001564</td>\n",
       "      <td>-0.005780</td>\n",
       "      <td>-0.011844</td>\n",
       "      <td>0.021116</td>\n",
       "    </tr>\n",
       "  </tbody>\n",
       "</table>\n",
       "<p>5 rows × 505 columns</p>\n",
       "</div>"
      ],
      "text/plain": [
       "Name               A       AAL       AAP      AAPL      ABBV       ABC  \\\n",
       "date                                                                     \n",
       "2013-02-11 -0.010705 -0.019857 -0.006485  0.010368 -0.011096 -0.002776   \n",
       "2013-02-12  0.000448 -0.013227  0.002675 -0.025386 -0.012067  0.004268   \n",
       "2013-02-13  0.002909  0.026963  0.004696 -0.001905 -0.004244 -0.006838   \n",
       "2013-02-14 -0.003806 -0.046780 -0.001648 -0.000900  0.036195  0.002783   \n",
       "2013-02-15 -0.053681  0.035806  0.002027 -0.013876  0.027244 -0.003641   \n",
       "\n",
       "Name             ABT       ACN      ADBE       ADI  ...        XL      XLNX  \\\n",
       "date                                                ...                       \n",
       "2013-02-11 -0.004369 -0.003279 -0.012346  0.008281  ...  0.002476 -0.001334   \n",
       "2013-02-12  0.001167  0.004097  0.006449  0.004115  ...  0.003526  0.003198   \n",
       "2013-02-13  0.004654  0.002586 -0.002059 -0.000216  ...  0.000352  0.005837   \n",
       "2013-02-14  0.006940 -0.005863 -0.005167  0.006035  ... -0.007062  0.016789   \n",
       "2013-02-15  0.010891  0.013986  0.000647 -0.007874  ...  0.015820 -0.008360   \n",
       "\n",
       "Name             XOM      XRAY       XRX       XYL       YUM       ZBH  \\\n",
       "date                                                                     \n",
       "2013-02-11 -0.003731 -0.000700  0.003762  0.013566 -0.011552 -0.002640   \n",
       "2013-02-12  0.002037  0.000700 -0.003762  0.017687  0.003094 -0.002780   \n",
       "2013-02-13  0.002371  0.004887  0.005013  0.011030 -0.005265  0.007396   \n",
       "2013-02-14 -0.001693 -0.003954  0.003743  0.007404 -0.008106  0.004464   \n",
       "2013-02-15 -0.001809 -0.002567 -0.007500 -0.006696  0.001564 -0.005780   \n",
       "\n",
       "Name            ZION       ZTS  \n",
       "date                            \n",
       "2013-02-11  0.002896  0.006334  \n",
       "2013-02-12  0.011499  0.014329  \n",
       "2013-02-13  0.010156 -0.005647  \n",
       "2013-02-14 -0.004456 -0.008381  \n",
       "2013-02-15 -0.011844  0.021116  \n",
       "\n",
       "[5 rows x 505 columns]"
      ]
     },
     "execution_count": 11,
     "metadata": {},
     "output_type": "execute_result"
    }
   ],
   "source": [
    "returns_df.head()"
   ]
  },
  {
   "cell_type": "markdown",
   "metadata": {},
   "source": [
    "# Clean missing values"
   ]
  },
  {
   "cell_type": "markdown",
   "metadata": {},
   "source": [
    "How many stocks (columns) have data over all over the period ?"
   ]
  },
  {
   "cell_type": "code",
   "execution_count": 12,
   "metadata": {},
   "outputs": [],
   "source": [
    "not_null_columns_bool = returns_df.notnull().all() # Series with Boolean equal True if column has all period"
   ]
  },
  {
   "cell_type": "code",
   "execution_count": 13,
   "metadata": {},
   "outputs": [
    {
     "data": {
      "text/plain": [
       "True     470\n",
       "False     35\n",
       "dtype: int64"
      ]
     },
     "execution_count": 13,
     "metadata": {},
     "output_type": "execute_result"
    }
   ],
   "source": [
    "returns_df.notnull().all().value_counts()"
   ]
  },
  {
   "cell_type": "markdown",
   "metadata": {},
   "source": [
    "470, let's continue with these stocks"
   ]
  },
  {
   "cell_type": "code",
   "execution_count": 14,
   "metadata": {},
   "outputs": [],
   "source": [
    "stocks_list = not_null_columns_bool[not_null_columns_bool].index"
   ]
  },
  {
   "cell_type": "code",
   "execution_count": 15,
   "metadata": {},
   "outputs": [],
   "source": [
    "returns_df = returns_df[stocks_list]"
   ]
  },
  {
   "cell_type": "code",
   "execution_count": 16,
   "metadata": {},
   "outputs": [],
   "source": [
    "first_date, last_date = min(returns_df.index), max(returns_df.index)"
   ]
  },
  {
   "cell_type": "code",
   "execution_count": 17,
   "metadata": {},
   "outputs": [
    {
     "data": {
      "text/plain": [
       "(Timestamp('2013-02-11 00:00:00'), Timestamp('2018-02-07 00:00:00'))"
      ]
     },
     "execution_count": 17,
     "metadata": {},
     "output_type": "execute_result"
    }
   ],
   "source": [
    "first_date, last_date"
   ]
  },
  {
   "cell_type": "markdown",
   "metadata": {},
   "source": [
    "In this experiment, we consider stocks from 2013-02-11 to 2018-02-07"
   ]
  },
  {
   "cell_type": "code",
   "execution_count": 18,
   "metadata": {},
   "outputs": [],
   "source": [
    "period_in_years = (last_date  - first_date).days / 365"
   ]
  },
  {
   "cell_type": "code",
   "execution_count": 19,
   "metadata": {},
   "outputs": [
    {
     "data": {
      "text/plain": [
       "4.991780821917808"
      ]
     },
     "execution_count": 19,
     "metadata": {},
     "output_type": "execute_result"
    }
   ],
   "source": [
    "period_in_years"
   ]
  },
  {
   "cell_type": "markdown",
   "metadata": {},
   "source": [
    "# Naive portfolios experiment"
   ]
  },
  {
   "cell_type": "markdown",
   "metadata": {},
   "source": [
    "In what follow we are interested in returns and covariance in annualized terms (thanks to log + diff) and recalling https://en.wikipedia.org/wiki/Covariance#Covariance_of_linear_combinations"
   ]
  },
  {
   "cell_type": "code",
   "execution_count": 20,
   "metadata": {},
   "outputs": [],
   "source": [
    "returns_cov = returns_df.cov() / period_in_years "
   ]
  },
  {
   "cell_type": "code",
   "execution_count": 21,
   "metadata": {},
   "outputs": [],
   "source": [
    "returns_means = returns_df.mean() / period_in_years"
   ]
  },
  {
   "cell_type": "code",
   "execution_count": 22,
   "metadata": {},
   "outputs": [
    {
     "data": {
      "text/plain": [
       "8.402110662930798e-05"
      ]
     },
     "execution_count": 22,
     "metadata": {},
     "output_type": "execute_result"
    }
   ],
   "source": [
    "returns_means.mean()"
   ]
  },
  {
   "cell_type": "markdown",
   "metadata": {},
   "source": [
    "Objectif : In what follows, we want to compute the mean performance, i.e. the mean return and the mean volatility, for naive portfolios (weight of each stock is the same in the portfolio) with random stocks. In this experiment we consider portfolios with 1 to 30 stocks. Each number of stocks will be simulated 200 time."
   ]
  },
  {
   "cell_type": "markdown",
   "metadata": {},
   "source": [
    "Build the empty pd.DataFrame, with number of stocks only..."
   ]
  },
  {
   "cell_type": "code",
   "execution_count": 23,
   "metadata": {},
   "outputs": [],
   "source": [
    "diversification_experiment_df = pd.DataFrame({'number_of_stocks': list(range(1, 31, 1))*200})"
   ]
  },
  {
   "cell_type": "markdown",
   "metadata": {},
   "source": [
    "... that will completed with performances of random naive (weight of a stock = 1/number of stocks) portfolios with this number of stocks. "
   ]
  },
  {
   "cell_type": "code",
   "execution_count": 24,
   "metadata": {},
   "outputs": [],
   "source": [
    "def compute_random_naive_portfolio_performances(number_of_stocks, returns_means=returns_means,returns_cov=returns_cov):\n",
    "    weights = np.array([1/number_of_stocks] * number_of_stocks + [0] * (len(returns_means) - number_of_stocks))\n",
    "    np.random.shuffle(weights)\n",
    "    portfolio_return = np.sum(returns_means*weights)\n",
    "    portfolio_volatility = np.sqrt(np.dot(weights.T, np.dot(returns_cov, weights)))\n",
    "    return pd.Series([portfolio_return, portfolio_volatility], index=['return', 'volatility'])\n",
    "\n"
   ]
  },
  {
   "cell_type": "code",
   "execution_count": 25,
   "metadata": {},
   "outputs": [],
   "source": [
    "random_naive_portfolio_performances = diversification_experiment_df.number_of_stocks.apply(compute_random_naive_portfolio_performances)\n",
    "\n"
   ]
  },
  {
   "cell_type": "code",
   "execution_count": 26,
   "metadata": {},
   "outputs": [],
   "source": [
    "diversification_experiment_df = pd.concat([diversification_experiment_df,\n",
    "                                           random_naive_portfolio_performances], axis=1)\n",
    "\n",
    "\n"
   ]
  },
  {
   "cell_type": "markdown",
   "metadata": {},
   "source": [
    "Which leads to :"
   ]
  },
  {
   "cell_type": "code",
   "execution_count": 27,
   "metadata": {},
   "outputs": [
    {
     "data": {
      "text/html": [
       "<div>\n",
       "<style scoped>\n",
       "    .dataframe tbody tr th:only-of-type {\n",
       "        vertical-align: middle;\n",
       "    }\n",
       "\n",
       "    .dataframe tbody tr th {\n",
       "        vertical-align: top;\n",
       "    }\n",
       "\n",
       "    .dataframe thead th {\n",
       "        text-align: right;\n",
       "    }\n",
       "</style>\n",
       "<table border=\"1\" class=\"dataframe\">\n",
       "  <thead>\n",
       "    <tr style=\"text-align: right;\">\n",
       "      <th></th>\n",
       "      <th>number_of_stocks</th>\n",
       "      <th>return</th>\n",
       "      <th>volatility</th>\n",
       "    </tr>\n",
       "  </thead>\n",
       "  <tbody>\n",
       "    <tr>\n",
       "      <td>0</td>\n",
       "      <td>1</td>\n",
       "      <td>0.000029</td>\n",
       "      <td>0.006639</td>\n",
       "    </tr>\n",
       "    <tr>\n",
       "      <td>1</td>\n",
       "      <td>2</td>\n",
       "      <td>0.000039</td>\n",
       "      <td>0.005257</td>\n",
       "    </tr>\n",
       "    <tr>\n",
       "      <td>2</td>\n",
       "      <td>3</td>\n",
       "      <td>0.000163</td>\n",
       "      <td>0.004399</td>\n",
       "    </tr>\n",
       "    <tr>\n",
       "      <td>3</td>\n",
       "      <td>4</td>\n",
       "      <td>0.000129</td>\n",
       "      <td>0.004578</td>\n",
       "    </tr>\n",
       "    <tr>\n",
       "      <td>4</td>\n",
       "      <td>5</td>\n",
       "      <td>0.000090</td>\n",
       "      <td>0.005683</td>\n",
       "    </tr>\n",
       "    <tr>\n",
       "      <td>...</td>\n",
       "      <td>...</td>\n",
       "      <td>...</td>\n",
       "      <td>...</td>\n",
       "    </tr>\n",
       "    <tr>\n",
       "      <td>5995</td>\n",
       "      <td>26</td>\n",
       "      <td>0.000106</td>\n",
       "      <td>0.003664</td>\n",
       "    </tr>\n",
       "    <tr>\n",
       "      <td>5996</td>\n",
       "      <td>27</td>\n",
       "      <td>0.000104</td>\n",
       "      <td>0.003976</td>\n",
       "    </tr>\n",
       "    <tr>\n",
       "      <td>5997</td>\n",
       "      <td>28</td>\n",
       "      <td>0.000097</td>\n",
       "      <td>0.003786</td>\n",
       "    </tr>\n",
       "    <tr>\n",
       "      <td>5998</td>\n",
       "      <td>29</td>\n",
       "      <td>0.000117</td>\n",
       "      <td>0.003778</td>\n",
       "    </tr>\n",
       "    <tr>\n",
       "      <td>5999</td>\n",
       "      <td>30</td>\n",
       "      <td>0.000067</td>\n",
       "      <td>0.003808</td>\n",
       "    </tr>\n",
       "  </tbody>\n",
       "</table>\n",
       "<p>6000 rows × 3 columns</p>\n",
       "</div>"
      ],
      "text/plain": [
       "      number_of_stocks    return  volatility\n",
       "0                    1  0.000029    0.006639\n",
       "1                    2  0.000039    0.005257\n",
       "2                    3  0.000163    0.004399\n",
       "3                    4  0.000129    0.004578\n",
       "4                    5  0.000090    0.005683\n",
       "...                ...       ...         ...\n",
       "5995                26  0.000106    0.003664\n",
       "5996                27  0.000104    0.003976\n",
       "5997                28  0.000097    0.003786\n",
       "5998                29  0.000117    0.003778\n",
       "5999                30  0.000067    0.003808\n",
       "\n",
       "[6000 rows x 3 columns]"
      ]
     },
     "execution_count": 27,
     "metadata": {},
     "output_type": "execute_result"
    }
   ],
   "source": [
    "diversification_experiment_df"
   ]
  },
  {
   "cell_type": "markdown",
   "metadata": {},
   "source": [
    "Reading : \n",
    "- index 0 is a simulation with one stocks\n",
    "- index 1 is a simulation with two stocks\n",
    "- etc"
   ]
  },
  {
   "cell_type": "markdown",
   "metadata": {},
   "source": [
    "Let's get the mean for each number of stocks"
   ]
  },
  {
   "cell_type": "code",
   "execution_count": 28,
   "metadata": {},
   "outputs": [],
   "source": [
    "performances_on_stocks_number = diversification_experiment_df.groupby('number_of_stocks')[['return', 'volatility']].mean().reset_index()\n",
    "\n",
    "\n"
   ]
  },
  {
   "cell_type": "markdown",
   "metadata": {},
   "source": [
    "And plot it"
   ]
  },
  {
   "cell_type": "code",
   "execution_count": 29,
   "metadata": {},
   "outputs": [
    {
     "data": {
      "text/plain": [
       "(7.313258590996096e-05, 0.00010148779613813529)"
      ]
     },
     "execution_count": 29,
     "metadata": {},
     "output_type": "execute_result"
    },
    {
     "data": {
      "image/png": "[encoded data removed]",
      "text/plain": [
       "<Figure size 432x288 with 1 Axes>"
      ]
     },
     "metadata": {
      "needs_background": "light"
     },
     "output_type": "display_data"
    }
   ],
   "source": [
    "scatter = sns.lineplot(performances_on_stocks_number['number_of_stocks'],\n",
    "                          performances_on_stocks_number['return'])\n",
    "\n",
    "axes = scatter.axes\n",
    "\n",
    "axes.set_xlim(0, 1.1 * performances_on_stocks_number['number_of_stocks'].max())\n",
    "axes.set_ylim(0.9 * performances_on_stocks_number['return'].min(), \n",
    "              1.1 * performances_on_stocks_number['return'].max())"
   ]
  },
  {
   "cell_type": "code",
   "execution_count": 30,
   "metadata": {},
   "outputs": [
    {
     "data": {
      "text/plain": [
       "(0, 0.007422781208492936)"
      ]
     },
     "execution_count": 30,
     "metadata": {},
     "output_type": "execute_result"
    },
    {
     "data": {
      "image/png": "[encoded data removed]",
      "text/plain": [
       "<Figure size 432x288 with 1 Axes>"
      ]
     },
     "metadata": {
      "needs_background": "light"
     },
     "output_type": "display_data"
    }
   ],
   "source": [
    "scatter = sns.lineplot(performances_on_stocks_number['number_of_stocks'],\n",
    "                       performances_on_stocks_number['volatility'])\n",
    "\n",
    "axes = scatter.axes\n",
    "\n",
    "axes.set_xlim(0, 1.1 * performances_on_stocks_number['number_of_stocks'].max())\n",
    "axes.set_ylim(0, 1.1 * performances_on_stocks_number['volatility'].max())\n"
   ]
  },
  {
   "cell_type": "markdown",
   "metadata": {},
   "source": [
    "# Take away : \n"
   ]
  },
  {
   "cell_type": "markdown",
   "metadata": {},
   "source": [
    "## The number of stocks in randoms naives portfolios don't affect the return"
   ]
  },
  {
   "cell_type": "markdown",
   "metadata": {},
   "source": [
    "## Passing from one stock to 5 stocks of randoms naives portfolios decrease the volatility of 55%"
   ]
  }
 ],
 "metadata": {
  "kernelspec": {
   "display_name": "Python 3",
   "language": "python",
   "name": "python3"
  },
  "language_info": {
   "codemirror_mode": {
    "name": "ipython",
    "version": 3
   },
   "file_extension": ".py",
   "mimetype": "text/x-python",
   "name": "python",
   "nbconvert_exporter": "python",
   "pygments_lexer": "ipython3",
   "version": "3.7.4"
  }
 },
 "nbformat": 4,
 "nbformat_minor": 2
}
